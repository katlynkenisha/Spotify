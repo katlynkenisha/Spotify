{
  "cells": [
    {
      "cell_type": "markdown",
      "metadata": {
        "id": "view-in-github",
        "colab_type": "text"
      },
      "source": [
        "<a href=\"https://colab.research.google.com/github/katlynkenisha/Spotify/blob/main/Spotify_Extracting_Playlist_Features.ipynb\" target=\"_parent\"><img src=\"https://colab.research.google.com/assets/colab-badge.svg\" alt=\"Open In Colab\"/></a>"
      ]
    },
    {
      "cell_type": "markdown",
      "metadata": {
        "id": "bFi18GfypqKu"
      },
      "source": [
        "# Extract prepared playlist using Spotify API"
      ]
    },
    {
      "cell_type": "code",
      "execution_count": null,
      "metadata": {
        "colab": {
          "background_save": true
        },
        "id": "0Wp9toKZZyIl"
      },
      "outputs": [],
      "source": [
        "!pip install spotipy"
      ]
    },
    {
      "cell_type": "code",
      "execution_count": null,
      "metadata": {
        "id": "3h8LZ5KEZ1_t"
      },
      "outputs": [],
      "source": [
        "# Connecting to spotify\n",
        "import spotipy\n",
        "from spotipy.oauth2 import SpotifyClientCredentials\n",
        "\n",
        "client_id = 'YOUR_client_id'\n",
        "client_secret = 'YOUR_client_secret'\n",
        "\n",
        "client_credentials_manager = SpotifyClientCredentials(client_id = client_id, client_secret = client_secret)\n",
        "sp = spotipy.Spotify(client_credentials_manager = client_credentials_manager)"
      ]
    },
    {
      "cell_type": "code",
      "execution_count": null,
      "metadata": {
        "id": "CvVXhrQTo1EE"
      },
      "outputs": [],
      "source": [
        "# Function to call playlist\n",
        "def call_playlist(username, playlist_id):\n",
        "    results = sp.user_playlist_tracks(username, playlist_id)\n",
        "    tracks = results['items']\n",
        "    while results['next']:\n",
        "        results = sp.next(results)\n",
        "        tracks.extend(results['items'])\n",
        "    results = tracks\n",
        "\n",
        "    playlist_tracks = []\n",
        "\n",
        "    for i in range(len(results)):\n",
        "        print(i)  # Counter\n",
        "        if i == 0:\n",
        "            artist_list = []\n",
        "            genre_list = []\n",
        "            for artist in results[i]['track']['artists']:\n",
        "                artist_details = sp.artist(artist['id'])\n",
        "                artist_list.append(artist['name'])\n",
        "                genre_list.extend(artist_details['genres'])\n",
        "            playlist_tracks_artists = \", \".join(artist_list)\n",
        "            playlist_tracks_titles = results[i]['track']['name']\n",
        "            playlist_tracks_id = results[i]['track']['id']\n",
        "            playlist_tracks_release_date = results[i]['track']['album']['release_date']\n",
        "            playlist_tracks_popularity = results[i]['track']['popularity']\n",
        "\n",
        "            features = sp.audio_features(playlist_tracks_id)\n",
        "            features_df = pd.DataFrame(data=features, columns=features[0].keys())\n",
        "            features_df['artist'] = playlist_tracks_artists\n",
        "            features_df['track_title'] = playlist_tracks_titles\n",
        "            features_df['track_id'] = playlist_tracks_id\n",
        "            features_df['release_date'] = playlist_tracks_release_date\n",
        "            features_df['popularity'] = playlist_tracks_popularity\n",
        "            features_df['genre'] = \", \".join(genre_list)\n",
        "            features_df = features_df[['artist', 'track_title', 'track_id', 'release_date', 'popularity', 'genre',\n",
        "                                       'acousticness', 'danceability', 'duration_ms', 'energy', 'instrumentalness',\n",
        "                                       'key', 'liveness', 'loudness', 'mode', 'speechiness', 'tempo', 'valence']]\n",
        "            continue\n",
        "        else:\n",
        "            try:\n",
        "                artist_list = []\n",
        "                genre_list = []\n",
        "                for artist in results[i]['track']['artists']:\n",
        "                    artist_details = sp.artist(artist['id'])\n",
        "                    artist_list.append(artist['name'])\n",
        "                    genre_list.extend(artist_details['genres'])\n",
        "                playlist_tracks_artists = \", \".join(artist_list)\n",
        "                playlist_tracks_titles = results[i]['track']['name']\n",
        "                playlist_tracks_id = results[i]['track']['id']\n",
        "                playlist_tracks_release_date = results[i]['track']['album']['release_date']\n",
        "                playlist_tracks_popularity = results[i]['track']['popularity']\n",
        "                features = sp.audio_features(playlist_tracks_id)\n",
        "                new_row = {'artist': [playlist_tracks_artists],\n",
        "                           'track_title': [playlist_tracks_titles],\n",
        "                           'track_id': [playlist_tracks_id],\n",
        "                           'release_date': [playlist_tracks_release_date],\n",
        "                           'popularity': [playlist_tracks_popularity],\n",
        "                           'genre': \", \".join(genre_list),\n",
        "                           'acousticness': [features[0]['acousticness']],\n",
        "                           'danceability': [features[0]['danceability']],\n",
        "                           'duration_ms': [features[0]['duration_ms']],\n",
        "                           'energy': [features[0]['energy']],\n",
        "                           'instrumentalness': [features[0]['instrumentalness']],\n",
        "                           'key': [features[0]['key']],\n",
        "                           'liveness': [features[0]['liveness']],\n",
        "                           'loudness': [features[0]['loudness']],\n",
        "                           'mode': [features[0]['mode']],\n",
        "                           'speechiness': [features[0]['speechiness']],\n",
        "                           'tempo': [features[0]['tempo']],\n",
        "                           'valence': [features[0]['valence']]\n",
        "                           }\n",
        "\n",
        "                dfs = [features_df, pd.DataFrame(new_row)]\n",
        "                features_df = pd.concat(dfs, ignore_index=True)\n",
        "            except:\n",
        "                continue\n",
        "\n",
        "    return features_df"
      ]
    },
    {
      "cell_type": "code",
      "execution_count": null,
      "metadata": {
        "id": "ondqnmN_4PIn"
      },
      "outputs": [],
      "source": [
        "# Call playlist\n",
        "df = call_playlist('OWNER','PLAYLIST ID')"
      ]
    },
    {
      "cell_type": "code",
      "execution_count": null,
      "metadata": {
        "id": "WwQzcYhepIXT"
      },
      "outputs": [],
      "source": [
        "# Dataframe preview\n",
        "df.head(2)"
      ]
    },
    {
      "cell_type": "markdown",
      "metadata": {
        "id": "yZimIlntpv8L"
      },
      "source": [
        "# Download selected tracks as dataframe to excel"
      ]
    },
    {
      "cell_type": "code",
      "execution_count": null,
      "metadata": {
        "id": "LGxBum78ieE4"
      },
      "outputs": [],
      "source": [
        "# Download dataframe to excel\n",
        "from google.colab import files\n",
        "\n",
        "df.to_excel('spotify.xlsx', encoding = 'utf-8-sig')\n",
        "files.download('spotify.xlsx')"
      ]
    }
  ],
  "metadata": {
    "colab": {
      "collapsed_sections": [
        "bFi18GfypqKu",
        "yZimIlntpv8L",
        "sD19R0s4b4pL",
        "Q3OSInMFQH8F",
        "AcDNMLkPgAUr",
        "QPe6pfI6pu-j",
        "r2rIhrqWDNE0",
        "OMlsFHRR7YG9",
        "axZqB85m6wJ2"
      ],
      "toc_visible": true,
      "provenance": [],
      "authorship_tag": "ABX9TyPDHSOilXEvxUlQ5JrHlq2w",
      "include_colab_link": true
    },
    "kernelspec": {
      "display_name": "Python 3",
      "name": "python3"
    },
    "language_info": {
      "name": "python"
    }
  },
  "nbformat": 4,
  "nbformat_minor": 0
}